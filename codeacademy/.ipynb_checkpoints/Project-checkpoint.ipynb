{
 "cells": [
  {
   "cell_type": "markdown",
   "metadata": {},
   "source": [
    "A/B Testing for ShoeFly.com\n",
    "Our favorite online shoe store, ShoeFly.com is performing an A/B Test. They have two different versions of an ad, which they have placed in emails, as well as in banner ads on Facebook, Twitter, and Google. They want to know how the two ads are performing on each of the different platforms on each day of the week. Help them analyze the data using aggregate measures."
   ]
  },
  {
   "cell_type": "markdown",
   "metadata": {},
   "source": [
    "### 1.\n",
    "Examine the first few rows of ad_clicks."
   ]
  },
  {
   "cell_type": "code",
   "execution_count": null,
   "metadata": {},
   "outputs": [],
   "source": []
  },
  {
   "cell_type": "markdown",
   "metadata": {},
   "source": [
    "### 2.\n",
    "Your manager wants to know which ad platform is getting you the most views.\n",
    "\n",
    "How many views (i.e., rows of the table) came from each utm_source?\n",
    "\n",
    "\n"
   ]
  },
  {
   "cell_type": "code",
   "execution_count": null,
   "metadata": {},
   "outputs": [],
   "source": []
  },
  {
   "cell_type": "markdown",
   "metadata": {},
   "source": [
    "### 3.\n",
    "If the column ad_click_timestamp is not null, then someone actually clicked on the ad that was displayed.\n",
    "\n",
    "Create a new column called is_click, which is True if ad_click_timestamp is not null and False otherwise."
   ]
  },
  {
   "cell_type": "code",
   "execution_count": null,
   "metadata": {},
   "outputs": [],
   "source": []
  },
  {
   "cell_type": "markdown",
   "metadata": {},
   "source": [
    "### 4.\n",
    "We want to know the percent of people who clicked on ads from each utm_source.\n",
    "\n",
    "Start by grouping by utm_source and is_click and counting the number of user_id‘s in each of those groups. Save your answer to the variable clicks_by_source."
   ]
  },
  {
   "cell_type": "code",
   "execution_count": null,
   "metadata": {},
   "outputs": [],
   "source": []
  },
  {
   "cell_type": "markdown",
   "metadata": {},
   "source": [
    "### 5.\n",
    "Now let’s pivot the data so that the columns are is_click (either True or False), the index is utm_source, and the values are user_id.\n",
    "\n",
    "Save your results to the variable clicks_pivot."
   ]
  },
  {
   "cell_type": "code",
   "execution_count": null,
   "metadata": {},
   "outputs": [],
   "source": []
  },
  {
   "cell_type": "markdown",
   "metadata": {},
   "source": [
    "### 6.\n",
    "Create a new column in clicks_pivot called percent_clicked which is equal to the percent of users who clicked on the ad from each utm_source.\n",
    "\n",
    "Was there a difference in click rates for each source?"
   ]
  },
  {
   "cell_type": "code",
   "execution_count": null,
   "metadata": {},
   "outputs": [],
   "source": []
  },
  {
   "cell_type": "markdown",
   "metadata": {},
   "source": [
    "### 7.\n",
    "The column experimental_group tells us whether the user was shown Ad A or Ad B.\n",
    "\n",
    "Were approximately the same number of people shown both adds?"
   ]
  },
  {
   "cell_type": "code",
   "execution_count": null,
   "metadata": {},
   "outputs": [],
   "source": []
  },
  {
   "cell_type": "markdown",
   "metadata": {},
   "source": [
    "### 8.\n",
    "Using the column is_click that we defined earlier, check to see if a greater percentage of users clicked on Ad A or Ad B."
   ]
  },
  {
   "cell_type": "code",
   "execution_count": null,
   "metadata": {},
   "outputs": [],
   "source": []
  },
  {
   "cell_type": "markdown",
   "metadata": {},
   "source": [
    "### 9.\n",
    "The Product Manager for the A/B test thinks that the clicks might have changed by day of the week.\n",
    "\n",
    "Start by creating two DataFrames: a_clicks and b_clicks, which contain only the results for A group and B group, respectively."
   ]
  },
  {
   "cell_type": "code",
   "execution_count": null,
   "metadata": {},
   "outputs": [],
   "source": []
  },
  {
   "cell_type": "markdown",
   "metadata": {},
   "source": [
    "### 10.\n",
    "For each group (a_clicks and b_clicks), calculate the percent of users who clicked on the ad by day."
   ]
  },
  {
   "cell_type": "code",
   "execution_count": null,
   "metadata": {},
   "outputs": [],
   "source": []
  },
  {
   "cell_type": "markdown",
   "metadata": {},
   "source": [
    "### 11.\n",
    "Compare the results for A and B. What happened over the course of the week?\n",
    "\n",
    "Do you recommend that your company use Ad A or Ad B?"
   ]
  },
  {
   "cell_type": "code",
   "execution_count": null,
   "metadata": {},
   "outputs": [],
   "source": []
  },
  {
   "cell_type": "markdown",
   "metadata": {},
   "source": [
    "### This Is Jeopardy!\n",
    "Overview\n",
    "This project is slightly different than others you have encountered thus far on Codecademy. Instead of a step-by-step tutorial, this project contains a series of open-ended requirements which describe the project you’ll be building. There are many possible ways to correctly fulfill all of these requirements, and you should expect to use the internet, Codecademy, and other resources when you encounter a problem that you cannot easily solve.\n",
    "\n",
    "Project Goals\n",
    "You will work to write several functions that investigate a dataset of Jeopardy! questions and answers. Filter the dataset for topics that you’re interested in, compute the average difficulty of those questions, and train to become the next Jeopardy champion!\n",
    "\n",
    "Setup Instructions\n",
    "If you choose to do this project on your computer instead of Codecademy, you can download what you’ll need by clicking the “Download” button below. Note that if you choose to download the project, we will provide you with a slightly bigger dataset. If you need help setting up your computer, be sure to check out our setup guide.\n",
    "\n",
    "Tasks\n",
    "0/9Complete\n",
    "Mark the tasks as complete by checking them off\n",
    "Prerequisites\n"
   ]
  },
  {
   "cell_type": "markdown",
   "metadata": {},
   "source": [
    "### 1.\n",
    "In order to complete this project, you should have completed the Pandas lessons in the Analyze Data with Python Skill Path. You can also find those lessons in the Data Analysis with Pandas course.\n",
    "\n",
    "Finally, the Practical Data Cleaning course may also be helpful.\n",
    "\n",
    "Project Requirements"
   ]
  },
  {
   "cell_type": "markdown",
   "metadata": {},
   "source": [
    "### 2.\n",
    "We’ve provided a csv file containing data about the game show Jeopardy! in a file named jeopardy.csv. Load the data into a DataFrame and investigate its contents. Try to print out specific columns.\n",
    "\n",
    "Note that in order to make this project as “real-world” as possible, we haven’t modified the data at all — we’re giving it to you exactly how we found it. As a result, this data isn’t as “clean” as the datasets you normally find on Codecademy. More specifically, there’s something odd about the column names. After you figure out the problem with the column names, you may want to rename them to make your life easier the rest of the project.\n",
    "\n",
    "In order to disply the full contents of a column, we’ve added this line of code to the top of your file:\n",
    "\n",
    "pd.set_option('display.max_colwidth', -1)\n",
    "\n",
    "Stuck? Get a hint"
   ]
  },
  {
   "cell_type": "markdown",
   "metadata": {},
   "source": [
    "\n",
    "2.\n",
    "We’ve provided a csv file containing data about the game show Jeopardy! in a file named jeopardy.csv. Load the data into a DataFrame and investigate its contents. Try to print out specific columns.\n",
    "\n",
    "Note that in order to make this project as “real-world” as possible, we haven’t modified the data at all — we’re giving it to you exactly how we found it. As a result, this data isn’t as “clean” as the datasets you normally find on Codecademy. More specifically, there’s something odd about the column names. After you figure out the problem with the column names, you may want to rename them to make your life easier the rest of the project.\n",
    "\n",
    "In order to disply the full contents of a column, we’ve added this line of code to the top of your file:\n",
    "\n",
    "pd.set_option('display.max_colwidth', -1)\n",
    "\n",
    "Stuck? Get a hint\n",
    "\n",
    "3.\n",
    "Write a function that filters the dataset for questions that contains all of the words in a list of words. For example, when the list [\"King\", \"England\"] was passed to our function, the function returned a DataFrame of 152 rows. Every row had the strings \"King\" and \"England\" somewhere in its \" Question\".\n",
    "\n",
    "Note that in this example, we found 152 rows by filtering the entire dataset. You can download the entire dataset at the start or end of this project. The dataset used on Codecademy is only a fraction of the dataset so you won’t find as many rows.\n",
    "\n",
    "Test your function by printing out the column containing the question of each row of the dataset.\n",
    "\n",
    "\n",
    "Stuck? Get a hint\n",
    "\n",
    "4.\n",
    "Test your original function with a few different sets of words to try to find some ways your function breaks. Edit your function so it is more robust.\n",
    "\n",
    "For example, think about capitalization. We probably want to find questions that contain the word \"King\" or \"king\".\n",
    "\n",
    "You may also want to check to make sure you don’t find rows that contain substrings of your given words. For example, our function found a question that didn’t contain the word \"king\", however it did contain the word \"viking\" — it found the \"king\" inside \"viking\". Note that this also comes with some drawbacks — you would no longer find questions that contained words like \"England's\".\n",
    "\n",
    "\n",
    "Stuck? Get a hint\n",
    "\n",
    "5.\n",
    "We may want to eventually compute aggregate statistics, like .mean() on the \" Value\" column. But right now, the values in that column are strings. Convert the \" Value\" column to floats. If you’d like to, you can create a new column with the float values.\n",
    "\n",
    "Now that you can filter the dataset of question, use your new column that contains the float values of each question to find the “difficulty” of certain topics. For example, what is the average value of questions that contain the word \"King\"?\n",
    "\n",
    "Make sure to use the dataset that contains the float values as the dataset you use in your filtering function.\n",
    "\n",
    "\n",
    "Stuck? Get a hint\n",
    "6.\n",
    "Write a function that returns the count of the unique answers to all of the questions in a dataset. For example, after filtering the entire dataset to only questions containing the word \"King\", we could then find all of the unique answers to those questions. The answer “Henry VIII” appeared 3 times and was the most common answer.\n",
    "\n",
    "\n",
    "Stuck? Get a hint\n",
    "7.\n",
    "Explore from here! This is an incredibly rich dataset, and there are so many interesting things to discover. There are a few columns that we haven’t even started looking at yet. Here are some ideas on ways to continue working with this data:\n",
    "\n",
    "Investigate the ways in which questions change over time by filtering by the date. How many questions from the 90s use the word \"Computer\" compared to questions from the 2000s?\n",
    "Is there a connection between the round and the category? Are you more likely to find certain categories, like \"Literature\" in Single Jeopardy or Double Jeopardy?\n",
    "Build a system to quiz yourself. Grab random questions, and use the input function to get a response from the user. Check to see if that response was right or wrong. Note that you can’t do this on the Codecademy platform — to do this, download the data, and write and run the code on your own computer!\n",
    "Solution\n",
    "8.\n",
    "Compare your program to our sample solution code - remember, that your program might look different from ours (and probably will) and that’s okay!\n",
    "\n",
    "Solution\n",
    "9.\n",
    "Great work! Visit our forums to compare your project to our sample solution code. You can also learn how to host your own solution on GitHub so you can share it with other learners! Your solution might look different from ours, and that’s okay! There are multiple ways to solve these projects, and you’ll learn more by seeing others’ code."
   ]
  },
  {
   "cell_type": "code",
   "execution_count": null,
   "metadata": {},
   "outputs": [],
   "source": []
  }
 ],
 "metadata": {
  "kernelspec": {
   "display_name": "Python 3",
   "language": "python",
   "name": "python3"
  },
  "language_info": {
   "codemirror_mode": {
    "name": "ipython",
    "version": 3
   },
   "file_extension": ".py",
   "mimetype": "text/x-python",
   "name": "python",
   "nbconvert_exporter": "python",
   "pygments_lexer": "ipython3",
   "version": "3.7.4"
  }
 },
 "nbformat": 4,
 "nbformat_minor": 2
}
